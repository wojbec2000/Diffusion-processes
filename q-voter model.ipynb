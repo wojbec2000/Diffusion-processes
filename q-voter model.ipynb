{
 "cells": [
  {
   "cell_type": "code",
   "execution_count": 2,
   "id": "e273211b",
   "metadata": {},
   "outputs": [],
   "source": [
    "import numpy as np\n",
    "import matplotlib.pyplot as plt\n",
    "import networkx as nx\n",
    "import random as rd"
   ]
  },
  {
   "cell_type": "code",
   "execution_count": 22,
   "id": "a370e269",
   "metadata": {},
   "outputs": [],
   "source": [
    "def q_voter_MC_step(network : nx.classes.graph.Graph,states : dict,q : int,p : float) -> dict:\n",
    "    \n",
    "    agents = list(network.nodes())\n",
    "    opinions = np.array(list(states.values()))\n",
    "    N = len(agents)\n",
    "    \n",
    "    for i in range(N):\n",
    "        S = rd.choice(agents)\n",
    "        if rd.random() < p:\n",
    "            if rd.random() < 0.5:\n",
    "                states[S] *= -1 \n",
    "        else:\n",
    "            neighbors = list(network.neighbors(S))\n",
    "            if len(neighbors) >= q:\n",
    "                selected_neighbors = rd.sample(neighbors,q)\n",
    "                if (np.sum(opinions[selected_neighbors])) == -q or (np.sum(opinions[selected_neighbors]) == q):\n",
    "                    states[S] *= -1\n",
    "    return states\n",
    "\n",
    "def q_voter_simulation(network : nx.classes.graph.Graph,states : dict,q : int,p : float,N : int) -> list:\n",
    "    \n",
    "    hist = [states]\n",
    "    \n",
    "    for i in range(N):\n",
    "        state = hist[i]\n",
    "        hist.append(q_voter_MC_step(network,state,q,p))\n",
    "        \n",
    "    return hist\n",
    "    \n",
    "def magnetization(state : dict) -> float:\n",
    "    \n",
    "    opinions = list(state.values())\n",
    "    N = len(opinions)\n",
    "    return sum(opinions)/N      "
   ]
  },
  {
   "cell_type": "code",
   "execution_count": 35,
   "id": "d53963f0",
   "metadata": {},
   "outputs": [
    {
     "data": {
      "text/plain": [
       "-0.18"
      ]
     },
     "execution_count": 35,
     "metadata": {},
     "output_type": "execute_result"
    }
   ],
   "source": [
    "network = nx.barabasi_albert_graph(100,4)\n",
    "agents = list(network.nodes()) \n",
    "opinions = np.zeros(len(agents),dtype = int) + 1\n",
    "states = {agent:opinion for (agent,opinion) in zip(agents,opinions)}\n",
    "magnetization(q_voter_simulation(network,states,3,0.3,100)[-1])"
   ]
  },
  {
   "cell_type": "code",
   "execution_count": null,
   "id": "5746b305",
   "metadata": {},
   "outputs": [],
   "source": []
  },
  {
   "cell_type": "code",
   "execution_count": null,
   "id": "fd8cf27e",
   "metadata": {},
   "outputs": [],
   "source": []
  },
  {
   "cell_type": "code",
   "execution_count": null,
   "id": "f05e5a34",
   "metadata": {},
   "outputs": [],
   "source": []
  }
 ],
 "metadata": {
  "kernelspec": {
   "display_name": "Python 3 (ipykernel)",
   "language": "python",
   "name": "python3"
  },
  "language_info": {
   "codemirror_mode": {
    "name": "ipython",
    "version": 3
   },
   "file_extension": ".py",
   "mimetype": "text/x-python",
   "name": "python",
   "nbconvert_exporter": "python",
   "pygments_lexer": "ipython3",
   "version": "3.9.12"
  }
 },
 "nbformat": 4,
 "nbformat_minor": 5
}
