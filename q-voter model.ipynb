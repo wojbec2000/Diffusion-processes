{
 "cells": [
  {
   "cell_type": "code",
   "execution_count": 4,
   "id": "e273211b",
   "metadata": {},
   "outputs": [],
   "source": [
    "import numpy as np\n",
    "import matplotlib.pyplot as plt\n",
    "import networkx as nx\n",
    "import random as rd"
   ]
  },
  {
   "cell_type": "code",
   "execution_count": 24,
   "id": "a370e269",
   "metadata": {},
   "outputs": [],
   "source": [
    "def q_voter_MC_step(network : nx.classes.graph.Graph,states : dict,q : int,p : float) -> dict:\n",
    "    \n",
    "    agents = list(network.nodes())\n",
    "    opinions = np.array(list(states.values()))\n",
    "    N = len(agents)\n",
    "    \n",
    "    for i in range(N):\n",
    "        S = rd.choice(agents)\n",
    "        if rd.random() < p:\n",
    "            if rd.random() < 0.5:\n",
    "                states[S] *= -1 \n",
    "        else:\n",
    "            neighbors = network.neighbors(S)\n",
    "            if len(neighbors) >= q:\n",
    "                chosen_neighbors = rd.sample(list(neighbors),q)\n",
    "                if (np.sum(opinions[chosen_neighbors]) == -q) or (np.sum(opinions[chosen_neighbors]) == q):\n",
    "                    states[S] *= -1\n",
    "                \n",
    "    return states"
   ]
  },
  {
   "cell_type": "code",
   "execution_count": 25,
   "id": "d53963f0",
   "metadata": {},
   "outputs": [],
   "source": [
    "network = nx.grid_2d_graph(10,10)\n",
    "agents = list(network.nodes()) \n",
    "opinions = np.random.choice([-1,1],len(agents))\n",
    "states = {agent:opinion for (agent,opinion) in zip(agents,opinions)}"
   ]
  },
  {
   "cell_type": "code",
   "execution_count": null,
   "id": "5746b305",
   "metadata": {},
   "outputs": [],
   "source": []
  },
  {
   "cell_type": "code",
   "execution_count": null,
   "id": "fd8cf27e",
   "metadata": {},
   "outputs": [],
   "source": []
  },
  {
   "cell_type": "code",
   "execution_count": null,
   "id": "f05e5a34",
   "metadata": {},
   "outputs": [],
   "source": []
  }
 ],
 "metadata": {
  "kernelspec": {
   "display_name": "Python 3 (ipykernel)",
   "language": "python",
   "name": "python3"
  },
  "language_info": {
   "codemirror_mode": {
    "name": "ipython",
    "version": 3
   },
   "file_extension": ".py",
   "mimetype": "text/x-python",
   "name": "python",
   "nbconvert_exporter": "python",
   "pygments_lexer": "ipython3",
   "version": "3.9.12"
  }
 },
 "nbformat": 4,
 "nbformat_minor": 5
}
