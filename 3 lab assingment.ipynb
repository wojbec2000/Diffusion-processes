{
 "cells": [
  {
   "cell_type": "code",
   "execution_count": 2,
   "id": "e8dc5de2",
   "metadata": {},
   "outputs": [],
   "source": [
    "import networkx as nx\n",
    "import numpy as np"
   ]
  },
  {
   "cell_type": "code",
   "execution_count": 3,
   "id": "038d1475",
   "metadata": {},
   "outputs": [],
   "source": [
    "def generate_pairs(N):\n",
    "    pairs = []\n",
    "    for i in range(N):\n",
    "        for j in range(i + 1,N):\n",
    "            pair = (i,j)\n",
    "            pairs.append(pair)\n",
    "    return pairs"
   ]
  },
  {
   "cell_type": "code",
   "execution_count": 4,
   "id": "84b59b33",
   "metadata": {},
   "outputs": [],
   "source": [
    "def random_graph(N,p):\n",
    "\n",
    "    G = nx.Graph()\n",
    "    G.add_nodes_from(np.arange(N))\n",
    "    pairs = generate_pairs(N)\n",
    "    for pair in pairs:\n",
    "        if np.random.uniform(0,1) < p:\n",
    "            G.add_edge(pair[0],pair[1])\n",
    "    return G"
   ]
  },
  {
   "cell_type": "code",
   "execution_count": 32,
   "id": "ef849e99",
   "metadata": {},
   "outputs": [],
   "source": [
    "def watts_strogatz(N,K,p):\n",
    "    \n",
    "    G = nx.Graph()\n",
    "    nodes = np.arange(1,N + 1)\n",
    "    neigbors_index = np.arange(1,K//2 + 1)\n",
    "    G.add_nodes_from(nodes)\n",
    "    \n",
    "    for i in range(len(nodes)):\n",
    "        for ind in neigbors_index:\n",
    "            G.add_edge(nodes[i],nodes[i - ind])\n",
    "    return G"
   ]
  },
  {
   "cell_type": "code",
   "execution_count": null,
   "id": "60ec80d2",
   "metadata": {},
   "outputs": [],
   "source": []
  },
  {
   "cell_type": "code",
   "execution_count": null,
   "id": "22bc0ff9",
   "metadata": {},
   "outputs": [],
   "source": []
  },
  {
   "cell_type": "code",
   "execution_count": null,
   "id": "80d07427",
   "metadata": {},
   "outputs": [],
   "source": []
  }
 ],
 "metadata": {
  "kernelspec": {
   "display_name": "Python 3",
   "language": "python",
   "name": "python3"
  },
  "language_info": {
   "codemirror_mode": {
    "name": "ipython",
    "version": 3
   },
   "file_extension": ".py",
   "mimetype": "text/x-python",
   "name": "python",
   "nbconvert_exporter": "python",
   "pygments_lexer": "ipython3",
   "version": "3.8.2"
  }
 },
 "nbformat": 4,
 "nbformat_minor": 5
}
