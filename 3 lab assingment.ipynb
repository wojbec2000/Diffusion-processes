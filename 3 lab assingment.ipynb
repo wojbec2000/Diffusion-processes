{
 "cells": [
  {
   "cell_type": "code",
   "execution_count": 2,
   "id": "32ad84e2",
   "metadata": {},
   "outputs": [],
   "source": [
    "import networkx as nx\n",
    "import numpy as np"
   ]
  },
  {
   "cell_type": "code",
   "execution_count": 3,
   "id": "306c6c63",
   "metadata": {},
   "outputs": [],
   "source": [
    "def generate_pairs(N):\n",
    "    pairs = []\n",
    "    for i in range(N):\n",
    "        for j in range(i + 1,N):\n",
    "            pair = (i,j)\n",
    "            pairs.append(pair)\n",
    "    return pairs"
   ]
  },
  {
   "cell_type": "code",
   "execution_count": 4,
   "id": "129d2ed4",
   "metadata": {},
   "outputs": [],
   "source": [
    "def random_graph(N,p):\n",
    "\n",
    "    G = nx.Graph()\n",
    "    G.add_nodes_from(np.arange(N))\n",
    "    pairs = generate_pairs(N)\n",
    "    for pair in pairs:\n",
    "        if np.random.uniform(0,1) < p:\n",
    "            G.add_edge(pair[0],pair[1])\n",
    "    return G"
   ]
  },
  {
   "cell_type": "code",
   "execution_count": 32,
   "id": "0545d6c8",
   "metadata": {},
   "outputs": [],
   "source": [
    "def watts_strogatz(N,K,p):\n",
    "    \n",
    "    G = nx.Graph()\n",
    "    nodes = np.arange(1,N + 1)\n",
    "    neigbors_index = np.arange(1,K//2 + 1)\n",
    "    G.add_nodes_from(nodes)\n",
    "    \n",
    "    for i in range(len(nodes)):\n",
    "        for ind in neigbors_index:\n",
    "            G.add_edge(nodes[i],nodes[i - ind])\n",
    "            if np.random.uniform(0,1) < p:\n",
    "                while True:\n",
    "                    k = np.random.choice(nodes)\n",
    "                    if i != k:\n",
    "                        break\n",
    "                G.add_edge(nodes[i],k)\n",
    "                G.remove_edge(nodes[i],nodes[i - ind])\n",
    "    return G"
   ]
  },
  {
   "cell_type": "code",
   "execution_count": null,
   "id": "d51fada3",
   "metadata": {},
   "outputs": [],
   "source": [
    "def probabilities(k):\n",
    "    \n",
    "    n = len(k)\n",
    "    p = np.zeros(n)\n",
    "    \n",
    "    for i in range(len(k)):\n",
    "        p[i] = k[i]/np.sum(k)\n",
    "    \n",
    "    return p\n",
    "\n",
    "    \n",
    "def barabasi_albert(m,m0):\n",
    "    \n",
    "    if m0 > m:\n",
    "        raise ValueError('m0 cannot be greater than m')\n",
    "    \n",
    "    G = nx.Graph()\n",
    "    \n",
    "    "
   ]
  },
  {
   "cell_type": "code",
   "execution_count": null,
   "id": "1d10138e",
   "metadata": {},
   "outputs": [],
   "source": []
  },
  {
   "cell_type": "code",
   "execution_count": null,
   "id": "0f2a2d22",
   "metadata": {},
   "outputs": [],
   "source": []
  }
 ],
 "metadata": {
  "kernelspec": {
   "display_name": "Python 3",
   "language": "python",
   "name": "python3"
  },
  "language_info": {
   "codemirror_mode": {
    "name": "ipython",
    "version": 3
   },
   "file_extension": ".py",
   "mimetype": "text/x-python",
   "name": "python",
   "nbconvert_exporter": "python",
   "pygments_lexer": "ipython3",
   "version": "3.8.2"
  }
 },
 "nbformat": 4,
 "nbformat_minor": 5
}
