{
 "cells": [
  {
   "cell_type": "code",
   "execution_count": 24,
   "id": "fb59c5d7",
   "metadata": {},
   "outputs": [],
   "source": [
    "class Graph():\n",
    "    \n",
    "    \"\"\"\n",
    "    A class that use to the representation of the graph.\n",
    "    \n",
    "    \n",
    "    Class attributes:\n",
    "    \n",
    "    vertices - list of vertices in the graph\n",
    "    edges - list of edges in the graph\n",
    "    \n",
    "    Class methods:\n",
    "    \n",
    "    __init__ - the method that create the graph with empty list of vertices and empty list of edges.\n",
    "    \n",
    "    addVertex - this method adds the vertex to the list of vertices\n",
    "    \n",
    "    addVertexFromList - this method adds the vertices to the list of vertices from the given list\n",
    "    \n",
    "    addEdge - add the connection between two vertices with given weight parameter\n",
    "    \n",
    "    addEdgeFromList - add edges to the list of edges with given weights from the given list.\n",
    "    \n",
    "    getVertices - shows the current list of vertices\n",
    "    \n",
    "    getEdges - shows the current list of edges\n",
    "    \n",
    "    getNeighbors - shows the neighbors of the given vertex\n",
    "    \n",
    "    __contains__ - check if the given vertex is in the graph\n",
    "    \n",
    "    saveGraph - save the graph to the text file\n",
    "    \n",
    "    getShortestPath - shows the length of the shortest path between the given vertex to the other vertices.\n",
    "    \n",
    "    \"\"\"\n",
    "    \n",
    "    \n",
    "    def __init__(self) -> None:\n",
    "        \n",
    "        \"\"\"\n",
    "        The init function create the undirected graph with empty list of vertices and empty list of edges. \n",
    "        This function returns None value.\n",
    "        \"\"\"\n",
    "        \n",
    "        self.vertices = []\n",
    "        self.edges = []\n",
    "        return None\n",
    "    \n",
    "    def addVertex(self,vert : object) -> list:\n",
    "        \"\"\"\n",
    "        parameter vert - the value of the vertice in the graph. The function returns current list of vertices in the graph.\n",
    "        \"\"\"\n",
    "        \n",
    "        #append vertice to the list of vertices\n",
    "        if vert not in self.vertices:\n",
    "            self.vertices.append(vert)\n",
    "        \n",
    "        return self.vertices\n",
    "    \n",
    "    def addVertexFromList(self,vertList : list) -> list:\n",
    "        \"\"\"\n",
    "        parameter vertList - the list of values of the vertices in the graph. From this list the function appends \n",
    "        each element of this list to the list of vertices. The function returns current list of vertices. \n",
    "        \"\"\"\n",
    "        \n",
    "        #extend list of vertice from the list of vertices\n",
    "        for vert in vertList:\n",
    "            self.addVertex(vert)\n",
    "        \n",
    "        return self.vertices\n",
    "    \n",
    "    def addEdge(self,fromVert : object,toVert : object,weight : float = 1.0) -> list:\n",
    "        \"\"\"\n",
    "        parameter fromVert - the value of the vertice from that the connection starts.\n",
    "        parameter toVert - the value of the vertice from that the connection ends. \n",
    "        parameter weight - is the optional argument of this function. If this argument is not given when the weight is \n",
    "        equal to 1.\n",
    "        \n",
    "        The function returns the list of edges in the graph \n",
    "        \"\"\"\n",
    "        \n",
    "        listofEdges = [edge[:2] for edge in self.edges]\n",
    "        #if the edge in the list of edge remove the edge from the list of edge and the vertices from the list of vertices\n",
    "        if (fromVert,toVert) in listofEdges:\n",
    "            self.edges.pop(listofEdges.index((fromVert,toVert)))\n",
    "            self.edges.pop(listofEdges.index((toVert,fromVert)) - 1)\n",
    "            self.vertices.remove(fromVert)\n",
    "            self.vertices.remove(toVert)\n",
    "        \n",
    "        #check if the fromVert and toVert in the list of vertice\n",
    "        #appends them to the list of edges and if not in the list of vertices appends them to this list\n",
    "        if (fromVert not in self.vertices) and (toVert not in self.vertices):\n",
    "            self.vertices.extend([fromVert,toVert])\n",
    "            edges = [(fromVert,toVert,weight),(toVert,fromVert,weight)]\n",
    "            self.edges.extend(edges)\n",
    "        elif (fromVert not in self.vertices):\n",
    "            self.vertices.append(fromVert)\n",
    "            edges = [(fromVert,toVert,weight),(toVert,fromVert,weight)]\n",
    "            self.edges.extend(edges)\n",
    "        elif (toVert not in self.vertices):\n",
    "            self.vertices.append(toVert)\n",
    "            edges = [(fromVert,toVert,weight),(toVert,fromVert,weight)]\n",
    "            self.edges.extend(edges)\n",
    "        else:\n",
    "            edges = [(fromVert,toVert,weight),(toVert,fromVert,weight)]\n",
    "            self.edges.extend(edges)\n",
    "        return self.edges\n",
    "    \n",
    "    \n",
    "    def addEdgeFromList(self,edgeList : list) -> list:\n",
    "        \"\"\"\n",
    "        parameter edgeList - the list of edges in the graph.\n",
    "        \n",
    "        This function returns extended list with the list of the list of edges\n",
    "        \n",
    "        \"\"\"\n",
    "        #if the optional argument not given create the edge with weight equals to 1.\n",
    "        #else create the edge with weight equals to the given weight.\n",
    "        for edge in edgeList:\n",
    "            if len(edge) == 2:\n",
    "                self.addEdge(edge[0],edge[1])\n",
    "            elif len(edge) == 3:\n",
    "                self.addEdge(edge[0],edge[1],edge[2])\n",
    "            else:\n",
    "                raise ValueError('The wrong size of tuple of edge')\n",
    "        return self.edges\n",
    "    \n",
    "    def getVertices(self) -> list:\n",
    "        \"\"\"\n",
    "        \n",
    "        This function returns the list of vertices\n",
    "        \n",
    "        \"\"\"\n",
    "        return self.vertices\n",
    "    \n",
    "    def getEdges(self) -> list:\n",
    "        \"\"\"\n",
    "        \n",
    "        This function returns the list of edges\n",
    "        \n",
    "        \"\"\"\n",
    "        return self.edges\n",
    "    \n",
    "    def getNeighbors(self,vertKey : object) -> list:\n",
    "        \"\"\"\n",
    "        parameter verKey - is the value of vertice for which the list of neighbors is given. This parametr can have any type.\n",
    "        \n",
    "        This function returns the list of neighbors for the given vertice.\n",
    "        \n",
    "        \"\"\"\n",
    "        \n",
    "        #create the list of edges\n",
    "        edges = [edg for edg in self.edges if edg[0] == vertKey]\n",
    "        #create the list of neighbors\n",
    "        neighbors = [edg[1] for edg in edges]\n",
    "        return neighbors\n",
    "    \n",
    "    def __contains__(self,vertex : object) -> bool:\n",
    "        \"\"\"\n",
    "        parameter vertex -  is the value of the vertice.\n",
    "        \n",
    "        The function returns the bool value that tell us if the vertice is in the list of vertices\n",
    "        \n",
    "        \"\"\"\n",
    "        \n",
    "        return vertex in self.vertices\n",
    "    \n",
    "    \n",
    "    def saveGraph(self,graph : str) -> None:\n",
    "        \"\"\"\n",
    "        parameter graph - is the name of the text file\n",
    "        \n",
    "        The function create the text file with dot representation of the graph and returns None value.\n",
    "        \n",
    "        \"\"\"\n",
    "        \n",
    "        f = open(graph,'w')\n",
    "        f.write('digraph G{  \\n')\n",
    "        for edge in self.edges:\n",
    "            f.write(str(edge[0]) + \" -> \" + str(edge[1]) + \"\\n\")\n",
    "        f.write(\"}\")\n",
    "        f.close()\n",
    "        return None\n",
    "    \n",
    "    \n",
    "    def getShortestPath(self,fromVert : object) -> dict:\n",
    "        \"\"\"\n",
    "        parameter fromVert - is the value of the vertice from that the shortest paths to the other vertices are calculated.\n",
    "        \n",
    "        The function returns the dictionary where the keys are the vertices in the graph and values are the lengths of the\n",
    "        shortest paths from the given vertice to the vertices in keys.\n",
    "\n",
    "        \"\"\"\n",
    "        \n",
    "        #create the dictionary with the vertices in the graph\n",
    "        path_lengths = {v: float('inf') for v in self.vertices}\n",
    "        path_lengths[fromVert] = 0\n",
    "        \n",
    "        neighbors = {v : {} for v in self.vertices}\n",
    "        \n",
    "        \n",
    "        for u,v,w in self.edges:\n",
    "            neighbors[u][v] = w\n",
    "            neighbors[v][u] = w\n",
    "        \n",
    "        visited_vertices = [v for v in self.vertices]\n",
    "        \n",
    "        #check if all the vertcies are visited\n",
    "        while len(visited_vertices) > 0:\n",
    "            \n",
    "            upper_bounds = {v : path_lengths[v] for v in visited_vertices}\n",
    "            \n",
    "            u = min(upper_bounds,key = upper_bounds.get)\n",
    "            \n",
    "            visited_vertices.remove(u)\n",
    "            \n",
    "            for v,w in neighbors[u].items():\n",
    "                path_lengths[v] = min(path_lengths[v],path_lengths[u] + w)\n",
    "        return path_lengths\n",
    "    \n",
    "        "
   ]
  },
  {
   "cell_type": "markdown",
   "id": "3a006300",
   "metadata": {},
   "source": [
    "### Initalizate the empty undirected graph"
   ]
  },
  {
   "cell_type": "code",
   "execution_count": 25,
   "id": "1447b113",
   "metadata": {},
   "outputs": [
    {
     "data": {
      "text/plain": [
       "([], [])"
      ]
     },
     "execution_count": 25,
     "metadata": {},
     "output_type": "execute_result"
    }
   ],
   "source": [
    "g = Graph()\n",
    "g.vertices , g.edges"
   ]
  },
  {
   "cell_type": "markdown",
   "id": "ded0bca4",
   "metadata": {},
   "source": [
    "### Add the vertex to the graph"
   ]
  },
  {
   "cell_type": "code",
   "execution_count": 26,
   "id": "6066d68c",
   "metadata": {},
   "outputs": [
    {
     "data": {
      "text/plain": [
       "[0, 1]"
      ]
     },
     "execution_count": 26,
     "metadata": {},
     "output_type": "execute_result"
    }
   ],
   "source": [
    "g.addVertex(0)\n",
    "g.addVertex(1)"
   ]
  },
  {
   "cell_type": "markdown",
   "id": "f7134208",
   "metadata": {},
   "source": [
    "### Show the vertices in the graph"
   ]
  },
  {
   "cell_type": "code",
   "execution_count": 27,
   "id": "d8711f6c",
   "metadata": {},
   "outputs": [
    {
     "data": {
      "text/plain": [
       "[0, 1]"
      ]
     },
     "execution_count": 27,
     "metadata": {},
     "output_type": "execute_result"
    }
   ],
   "source": [
    "g.getVertices()"
   ]
  },
  {
   "cell_type": "markdown",
   "id": "76032710",
   "metadata": {},
   "source": [
    "### Add vertices from the list"
   ]
  },
  {
   "cell_type": "code",
   "execution_count": 28,
   "id": "06c15b86",
   "metadata": {},
   "outputs": [
    {
     "data": {
      "text/plain": [
       "[0, 1, 2]"
      ]
     },
     "execution_count": 28,
     "metadata": {},
     "output_type": "execute_result"
    }
   ],
   "source": [
    "g.addVertexFromList([0,1,2])"
   ]
  },
  {
   "cell_type": "markdown",
   "id": "7d8b3bc4",
   "metadata": {},
   "source": [
    "### Add edge"
   ]
  },
  {
   "cell_type": "code",
   "execution_count": 29,
   "id": "18b52c30",
   "metadata": {},
   "outputs": [
    {
     "data": {
      "text/plain": [
       "[(0, 1, 1.0), (1, 0, 1.0), (0, 2, 1.0), (2, 0, 1.0)]"
      ]
     },
     "execution_count": 29,
     "metadata": {},
     "output_type": "execute_result"
    }
   ],
   "source": [
    "g.addEdge(0,1)\n",
    "g.addEdge(0,2)"
   ]
  },
  {
   "cell_type": "markdown",
   "id": "1ee22b7f",
   "metadata": {},
   "source": [
    "### Add edge from list"
   ]
  },
  {
   "cell_type": "code",
   "execution_count": 30,
   "id": "73a09f05",
   "metadata": {},
   "outputs": [
    {
     "data": {
      "text/plain": [
       "[(0, 1, 1.0),\n",
       " (1, 0, 1.0),\n",
       " (0, 2, 1.0),\n",
       " (2, 0, 1.0),\n",
       " (1, 2, 1.0),\n",
       " (2, 1, 1.0),\n",
       " (1, 3, 1.0),\n",
       " (3, 1, 1.0),\n",
       " (2, 3, 1.0),\n",
       " (3, 2, 1.0),\n",
       " (1, 4, 1.0),\n",
       " (4, 1, 1.0),\n",
       " (2, 5, 1.0),\n",
       " (5, 2, 1.0)]"
      ]
     },
     "execution_count": 30,
     "metadata": {},
     "output_type": "execute_result"
    }
   ],
   "source": [
    "g.addEdgeFromList([(1,2),(1,3),(2,3),(1,4),(2,5)])"
   ]
  },
  {
   "cell_type": "markdown",
   "id": "a0b325f9",
   "metadata": {},
   "source": [
    "### Show the neighbors of the vertex"
   ]
  },
  {
   "cell_type": "code",
   "execution_count": 31,
   "id": "82d46338",
   "metadata": {},
   "outputs": [
    {
     "data": {
      "text/plain": [
       "[1, 2]"
      ]
     },
     "execution_count": 31,
     "metadata": {},
     "output_type": "execute_result"
    }
   ],
   "source": [
    "g.getNeighbors(0)"
   ]
  },
  {
   "cell_type": "code",
   "execution_count": 32,
   "id": "3e53c600",
   "metadata": {},
   "outputs": [
    {
     "data": {
      "text/plain": [
       "[0, 1, 3, 5]"
      ]
     },
     "execution_count": 32,
     "metadata": {},
     "output_type": "execute_result"
    }
   ],
   "source": [
    "g.getNeighbors(2)"
   ]
  },
  {
   "cell_type": "markdown",
   "id": "103a3a18",
   "metadata": {},
   "source": [
    "### Check if the vertex is in the graph"
   ]
  },
  {
   "cell_type": "code",
   "execution_count": 33,
   "id": "7ba33266",
   "metadata": {},
   "outputs": [
    {
     "data": {
      "text/plain": [
       "True"
      ]
     },
     "execution_count": 33,
     "metadata": {},
     "output_type": "execute_result"
    }
   ],
   "source": [
    "5 in g"
   ]
  },
  {
   "cell_type": "code",
   "execution_count": 34,
   "id": "233b73b1",
   "metadata": {},
   "outputs": [
    {
     "data": {
      "text/plain": [
       "False"
      ]
     },
     "execution_count": 34,
     "metadata": {},
     "output_type": "execute_result"
    }
   ],
   "source": [
    "6 in g"
   ]
  },
  {
   "cell_type": "markdown",
   "id": "f5601b99",
   "metadata": {},
   "source": [
    "### Calculate the shortest path between the given vertex and the other vertices"
   ]
  },
  {
   "cell_type": "code",
   "execution_count": 35,
   "id": "3be9e1f0",
   "metadata": {},
   "outputs": [
    {
     "data": {
      "text/plain": [
       "{0: 2.0, 1: 2.0, 2: 1.0, 3: 2.0, 4: 3.0, 5: 0}"
      ]
     },
     "execution_count": 35,
     "metadata": {},
     "output_type": "execute_result"
    }
   ],
   "source": [
    "g.getShortestPath(5)"
   ]
  },
  {
   "cell_type": "markdown",
   "id": "c70dc66b",
   "metadata": {},
   "source": [
    "### Save to the graph into text file"
   ]
  },
  {
   "cell_type": "code",
   "execution_count": 36,
   "id": "c59a3143",
   "metadata": {},
   "outputs": [],
   "source": [
    "g.saveGraph('graph.txt')"
   ]
  },
  {
   "cell_type": "code",
   "execution_count": 37,
   "id": "3264ba94",
   "metadata": {},
   "outputs": [],
   "source": [
    "G = Graph()"
   ]
  },
  {
   "cell_type": "code",
   "execution_count": 40,
   "id": "32b74827",
   "metadata": {},
   "outputs": [
    {
     "data": {
      "text/plain": [
       "[('Alice', 'Bob', 1.0),\n",
       " ('Bob', 'Alice', 1.0),\n",
       " ('Bob', 'Gail', 1.0),\n",
       " ('Gail', 'Bob', 1.0),\n",
       " ('Irene', 'Gail', 1.0),\n",
       " ('Gail', 'Irene', 1.0),\n",
       " ('Carl', 'Alice', 1.0),\n",
       " ('Alice', 'Carl', 1.0),\n",
       " ('Gail', 'Harry', 1.0),\n",
       " ('Harry', 'Gail', 1.0),\n",
       " ('Irene', 'Jen', 1.0),\n",
       " ('Jen', 'Irene', 1.0),\n",
       " ('Alice', 'David', 1.0),\n",
       " ('David', 'Alice', 1.0),\n",
       " ('Harry', 'Jen', 1.0),\n",
       " ('Jen', 'Harry', 1.0),\n",
       " ('Ernst', 'Frank', 1.0),\n",
       " ('Frank', 'Ernst', 1.0),\n",
       " ('Alice', 'Ernst', 1.0),\n",
       " ('Ernst', 'Alice', 1.0),\n",
       " ('Jen', 'Gail', 1.0),\n",
       " ('Gail', 'Jen', 1.0),\n",
       " ('David', 'Carl', 1.0),\n",
       " ('Carl', 'David', 1.0),\n",
       " ('Alice', 'Frank', 1.0),\n",
       " ('Frank', 'Alice', 1.0),\n",
       " ('Harry', 'Irene', 1.0),\n",
       " ('Irene', 'Harry', 1.0),\n",
       " ('Carl', 'Frank', 1.0),\n",
       " ('Frank', 'Carl', 1.0)]"
      ]
     },
     "execution_count": 40,
     "metadata": {},
     "output_type": "execute_result"
    }
   ],
   "source": [
    "listofEdges = [('Alice','Bob'),('Bob','Gail'),('Irene','Gail'),('Carl','Alice'),('Gail','Harry'),('Irene','Jen'),\n",
    "              ('Alice','David'),('Harry','Jen'),('Ernst','Frank'),('Alice','Ernst'),('Jen','Gail'),('David','Carl'),\n",
    "              ('Alice','Frank'),('Harry','Irene'),('Carl','Frank')]\n",
    "G.addEdgeFromList(listofEdges)"
   ]
  },
  {
   "cell_type": "code",
   "execution_count": 41,
   "id": "d9294703",
   "metadata": {},
   "outputs": [
    {
     "data": {
      "text/plain": [
       "['Alice',\n",
       " 'Bob',\n",
       " 'Gail',\n",
       " 'Irene',\n",
       " 'Carl',\n",
       " 'Harry',\n",
       " 'Jen',\n",
       " 'David',\n",
       " 'Ernst',\n",
       " 'Frank']"
      ]
     },
     "execution_count": 41,
     "metadata": {},
     "output_type": "execute_result"
    }
   ],
   "source": [
    "G.getVertices()"
   ]
  },
  {
   "cell_type": "code",
   "execution_count": 42,
   "id": "1a829d38",
   "metadata": {},
   "outputs": [],
   "source": [
    "G.saveGraph('graph.txt')"
   ]
  },
  {
   "cell_type": "code",
   "execution_count": 43,
   "id": "039c88fc",
   "metadata": {},
   "outputs": [
    {
     "data": {
      "text/plain": [
       "{'Alice': 1.0,\n",
       " 'Bob': 0,\n",
       " 'Gail': 1.0,\n",
       " 'Irene': 2.0,\n",
       " 'Carl': 2.0,\n",
       " 'Harry': 2.0,\n",
       " 'Jen': 2.0,\n",
       " 'David': 2.0,\n",
       " 'Ernst': 2.0,\n",
       " 'Frank': 2.0}"
      ]
     },
     "execution_count": 43,
     "metadata": {},
     "output_type": "execute_result"
    }
   ],
   "source": [
    "G.getShortestPath('Bob')"
   ]
  },
  {
   "cell_type": "code",
   "execution_count": null,
   "id": "57fb6f33",
   "metadata": {},
   "outputs": [],
   "source": []
  }
 ],
 "metadata": {
  "kernelspec": {
   "display_name": "Python 3 (ipykernel)",
   "language": "python",
   "name": "python3"
  },
  "language_info": {
   "codemirror_mode": {
    "name": "ipython",
    "version": 3
   },
   "file_extension": ".py",
   "mimetype": "text/x-python",
   "name": "python",
   "nbconvert_exporter": "python",
   "pygments_lexer": "ipython3",
   "version": "3.9.12"
  }
 },
 "nbformat": 4,
 "nbformat_minor": 5
}
